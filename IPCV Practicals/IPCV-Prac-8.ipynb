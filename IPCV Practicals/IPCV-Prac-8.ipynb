{
 "cells": [
  {
   "cell_type": "code",
   "execution_count": null,
   "id": "f2b7fa87-27bf-43b1-ba41-f128715db82a",
   "metadata": {},
   "outputs": [],
   "source": [
    "# Rupesh Bharambe, AI2008"
   ]
  },
  {
   "cell_type": "code",
   "execution_count": null,
   "id": "f52ae16f-1e17-4fa3-9bf5-1b964636057d",
   "metadata": {
    "tags": []
   },
   "outputs": [],
   "source": [
    "import cv2\n",
    "import numpy as np\n",
    "\n",
    "screenRead = cv2.VideoCapture(0)\n",
    "\n",
    "while(1):\n",
    "    _, image = screenRead.read()\n",
    "    hsv = cv2.cvtColor(image, cv2.COLOR_BGR2HSV)\n",
    "    \n",
    "    blue1 = np.array([110, 50, 50])\n",
    "    blue2 = np.array([130, 255, 255])\n",
    "    \n",
    "    mask = cv2.inRange(hsv, blue1, blue2)\n",
    "    res = cv2.bitwise_and(image, image, mask = mask)\n",
    "    \n",
    "    kernel = np.ones((5, 5), np.uint8)\n",
    "    \n",
    "    opening = cv2.morphologyEx(mask, cv2.MORPH_OPEN, kernel)\n",
    "    \n",
    "    cv2.imshow(\"Mask\", mask)\n",
    "    cv2.imshow(\"Opening\", opening)\n",
    "    \n",
    "    if cv2.waitKey(1) & 0xff == ord('a'):\n",
    "        break\n",
    "        \n",
    "cv2.destroyAllWindows()\n",
    "screenRead.release()"
   ]
  },
  {
   "cell_type": "code",
   "execution_count": null,
   "id": "1538b053-f61b-4e41-a9e2-956bf70755e1",
   "metadata": {},
   "outputs": [],
   "source": [
    "import cv2\n",
    "import numpy as np\n",
    "\n",
    "screenRead = cv2.VideoCapture(0)\n",
    "\n",
    "while(1):\n",
    "    _, image = screenRead.read()\n",
    "    hsv = cv2.cvtColor(image, cv2.COLOR_BGR2HSV)\n",
    "    \n",
    "    blue1 = np.array([110, 50, 50])\n",
    "    blue2 = np.array([130, 255, 255])\n",
    "    \n",
    "    mask = cv2.inRange(hsv, blue1, blue2)\n",
    "    res = cv2.bitwise_and(image, image, mask = mask)\n",
    "    \n",
    "    kernel = np.ones((5, 5), np.uint8)\n",
    "    \n",
    "    closing = cv2.morphologyEx(mask, cv2.MORPH_CLOSE, kernel)\n",
    "    \n",
    "    cv2.imshow(\"Mask\", mask)\n",
    "    cv2.imshow(\"Closing\", closing)\n",
    "    \n",
    "    if cv2.waitKey(1) & 0xff == ord('a'):\n",
    "        break\n",
    "        \n",
    "cv2.destroyAllWindows()\n",
    "screenRead.release()"
   ]
  },
  {
   "cell_type": "code",
   "execution_count": null,
   "id": "fd281fb4-e0e9-43cb-a4ba-dcca73462f6c",
   "metadata": {},
   "outputs": [],
   "source": [
    "import cv2\n",
    "import numpy as np\n",
    "\n",
    "screenRead = cv2.VideoCapture(0)\n",
    "\n",
    "while(1):\n",
    "    _, image = screenRead.read()\n",
    "    hsv = cv2.cvtColor(image, cv2.COLOR_BGR2HSV)\n",
    "    \n",
    "    blue1 = np.array([110, 50, 50])\n",
    "    blue2 = np.array([130, 255, 255])\n",
    "    \n",
    "    mask = cv2.inRange(hsv, blue1, blue2)\n",
    "    \n",
    "    res = cv2.bitwise_and(image, image, mask = mask)\n",
    "    \n",
    "    kernel = np.ones((5, 5), np.uint8)\n",
    "    \n",
    "    gradient = cv2.morphologyEx(mask, cv2.MORPH_GRADIENT, kernel)\n",
    "    \n",
    "    cv2.imshow('Gradient', gradient)\n",
    "    \n",
    "    if cv2.waitKey(1) & 0xff == ord('a'):\n",
    "        break\n",
    "        \n",
    "cv2.destroyAllWindows()\n",
    "screenRead.release()"
   ]
  },
  {
   "cell_type": "code",
   "execution_count": null,
   "id": "cae72245-4513-4150-821f-479eb6a98093",
   "metadata": {},
   "outputs": [],
   "source": []
  }
 ],
 "metadata": {
  "kernelspec": {
   "display_name": "Python 3 (ipykernel)",
   "language": "python",
   "name": "python3"
  },
  "language_info": {
   "codemirror_mode": {
    "name": "ipython",
    "version": 3
   },
   "file_extension": ".py",
   "mimetype": "text/x-python",
   "name": "python",
   "nbconvert_exporter": "python",
   "pygments_lexer": "ipython3",
   "version": "3.11.4"
  }
 },
 "nbformat": 4,
 "nbformat_minor": 5
}
