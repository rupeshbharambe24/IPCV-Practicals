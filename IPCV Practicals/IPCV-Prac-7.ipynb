{
 "cells": [
  {
   "cell_type": "code",
   "execution_count": 1,
   "id": "39665cdc-2cc1-48ca-97ed-573415647ed3",
   "metadata": {},
   "outputs": [],
   "source": [
    "# Rupesh Bharambe, AI2008"
   ]
  },
  {
   "cell_type": "code",
   "execution_count": 1,
   "id": "a527fbd1-8472-4353-8608-09ff031135d0",
   "metadata": {
    "tags": []
   },
   "outputs": [
    {
     "data": {
      "text/plain": [
       "-1"
      ]
     },
     "execution_count": 1,
     "metadata": {},
     "output_type": "execute_result"
    }
   ],
   "source": [
    "import numpy as np\n",
    "import cv2 as cv\n",
    "img = cv.imread(r\"C:\\Users\\rupes\\OneDrive\\Pictures\\img10.jpg\", 0)\n",
    "rows, cols = img.shape\n",
    "M = np.float32([[1, 0, 0], [0, -1, rows], [0, 0, 1]])\n",
    "reflected_img = cv.warpPerspective(img, M, (int(cols), int(rows)))\n",
    "cv.imshow('img', reflected_img)\n",
    "cv.imwrite('reflection_out.jpg', reflected_img)\n",
    "cv.waitKey(0)\n"
   ]
  },
  {
   "cell_type": "code",
   "execution_count": 2,
   "id": "01d91226-c3c3-4bde-b983-23fbd4bffffc",
   "metadata": {
    "tags": []
   },
   "outputs": [
    {
     "data": {
      "text/plain": [
       "-1"
      ]
     },
     "execution_count": 2,
     "metadata": {},
     "output_type": "execute_result"
    }
   ],
   "source": [
    "import numpy as np\n",
    "import cv2 as cv\n",
    "img = cv.imread(r\"C:\\Users\\rupes\\OneDrive\\Pictures\\img10.jpg\", 0)\n",
    "rows, cols = img.shape\n",
    "M = np.float32([[1, 0, 0], [0, -1, rows], [0, 0, 1]])\n",
    "img_rotation = cv.warpAffine(img, cv.getRotationMatrix2D((cols/2, rows/2)\n",
    "                                                         , 30, 0.6), (cols, rows))\n",
    "cv.imshow('img', img_rotation)\n",
    "cv.imwrite('rotation_out.jpg', img_rotation)\n",
    "cv.waitKey(0)"
   ]
  },
  {
   "cell_type": "code",
   "execution_count": 3,
   "id": "8ddae19a-9d5c-45aa-8f50-42556264ed69",
   "metadata": {
    "tags": []
   },
   "outputs": [],
   "source": [
    "import numpy as np\n",
    "import cv2 as cv\n",
    "img = cv.imread(r\"C:\\Users\\rupes\\OneDrive\\Pictures\\img10.jpg\", 0)\n",
    "rows, cols = img.shape\n",
    "img_shrinked = cv.resize(img, (250, 200), interpolation=cv.INTER_AREA)\n",
    "cv.imshow('img', img_shrinked)\n",
    "img_enlarged = cv.resize(img_shrinked, None, fx=0.5, fy=1.5, \n",
    "                         interpolation=cv.INTER_CUBIC)\n",
    "cv.imshow('img', img_enlarged)\n",
    "cv.waitKey(0)\n",
    "cv.destroyAllWindows()"
   ]
  },
  {
   "cell_type": "code",
   "execution_count": 4,
   "id": "7028df36-3e91-48c7-8804-f0d4a2a9dc37",
   "metadata": {
    "tags": []
   },
   "outputs": [
    {
     "data": {
      "text/plain": [
       "-1"
      ]
     },
     "execution_count": 4,
     "metadata": {},
     "output_type": "execute_result"
    }
   ],
   "source": [
    "import numpy as np\n",
    "import cv2 as cv\n",
    "img = cv.imread(r\"C:\\Users\\rupes\\OneDrive\\Pictures\\img10.jpg\", 0)\n",
    "cropped_img = img[100:800, 100:800]\n",
    "cv.imshow('cropped_out.jpg', cropped_img)\n",
    "cv.waitKey(0)"
   ]
  },
  {
   "cell_type": "code",
   "execution_count": null,
   "id": "a710ba82-fa77-4013-9055-9fdda3e090da",
   "metadata": {},
   "outputs": [],
   "source": []
  }
 ],
 "metadata": {
  "kernelspec": {
   "display_name": "Python 3 (ipykernel)",
   "language": "python",
   "name": "python3"
  },
  "language_info": {
   "codemirror_mode": {
    "name": "ipython",
    "version": 3
   },
   "file_extension": ".py",
   "mimetype": "text/x-python",
   "name": "python",
   "nbconvert_exporter": "python",
   "pygments_lexer": "ipython3",
   "version": "3.11.4"
  }
 },
 "nbformat": 4,
 "nbformat_minor": 5
}
