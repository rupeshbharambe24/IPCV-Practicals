{
 "cells": [
  {
   "cell_type": "code",
   "execution_count": null,
   "id": "7e7feb5f-456f-4e79-80dd-637e32b46173",
   "metadata": {},
   "outputs": [],
   "source": [
    "# Rupesh Bharambe, AI2008"
   ]
  },
  {
   "cell_type": "code",
   "execution_count": 6,
   "id": "fdb94ed5-d6a5-43b7-8ef3-5dc067b55e6d",
   "metadata": {},
   "outputs": [],
   "source": [
    "import cv2\n",
    "import numpy as np\n",
    "\n",
    "image1 = cv2.imread(r\"C:\\Users\\rupes\\OneDrive\\Pictures\\img4.jpg\")\n",
    "image2 = cv2.imread(r\"C:\\Users\\rupes\\OneDrive\\Pictures\\img5.jpg\")\n",
    "\n",
    "i1 = cv2.resize(image1, (700, 500))\n",
    "i2 = cv2.resize(image2, (700, 500))\n",
    "\n",
    "weightedSum = cv2.addWeighted(i1, 0.5, i2, 0.7, 0)\n",
    "\n",
    "cv2.imshow('Weighted Image', weightedSum)\n",
    "\n",
    "if cv2.waitKey(0) & 0xff == 27:\n",
    "    cv2.destroyAllWindows()"
   ]
  },
  {
   "cell_type": "code",
   "execution_count": 7,
   "id": "391c2a5d-cbec-4be6-9987-c108d6d6afce",
   "metadata": {
    "tags": []
   },
   "outputs": [],
   "source": [
    "import cv2\n",
    "import numpy as np\n",
    "\n",
    "image1 = cv2.imread(r\"C:\\Users\\rupes\\OneDrive\\Pictures\\img4.jpg\")\n",
    "image2 = cv2.imread(r\"C:\\Users\\rupes\\OneDrive\\Pictures\\img5.jpg\")\n",
    "\n",
    "i1 = cv2.resize(image1, (700, 500))\n",
    "i2 = cv2.resize(image2, (700, 500))\n",
    "\n",
    "sub = cv2.subtract(i1, i2)\n",
    "\n",
    "cv2.imshow('Subtracted Image', sub)\n",
    "\n",
    "if cv2.waitKey(0) & 0xff == 27:\n",
    "    cv2.destroyAllWindows()"
   ]
  },
  {
   "cell_type": "code",
   "execution_count": null,
   "id": "30cc367c-d3b2-450c-a9fc-473e7da6d951",
   "metadata": {},
   "outputs": [],
   "source": []
  }
 ],
 "metadata": {
  "kernelspec": {
   "display_name": "Python 3 (ipykernel)",
   "language": "python",
   "name": "python3"
  },
  "language_info": {
   "codemirror_mode": {
    "name": "ipython",
    "version": 3
   },
   "file_extension": ".py",
   "mimetype": "text/x-python",
   "name": "python",
   "nbconvert_exporter": "python",
   "pygments_lexer": "ipython3",
   "version": "3.11.4"
  }
 },
 "nbformat": 4,
 "nbformat_minor": 5
}
