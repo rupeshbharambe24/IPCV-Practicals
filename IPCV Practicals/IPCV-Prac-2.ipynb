{
 "cells": [
  {
   "cell_type": "code",
   "execution_count": null,
   "id": "07cd796e-0bb1-4e61-835d-33855b276f44",
   "metadata": {},
   "outputs": [],
   "source": [
    "# Rupesh Bharambe, AI2008"
   ]
  },
  {
   "cell_type": "code",
   "execution_count": 17,
   "id": "92b4281a-6acf-4aab-8fba-07303e77ef62",
   "metadata": {
    "tags": []
   },
   "outputs": [],
   "source": [
    "import cv2\n",
    "\n",
    "img = cv2.imread(r\"C:\\Users\\rupes\\OneDrive\\Pictures\\img5.jpg\", cv2.IMREAD_COLOR)\n",
    "\n",
    "cv2.imshow(\"Output\", img)\n",
    "\n",
    "cv2.waitKey(0)\n",
    "\n",
    "cv2.destroyAllWindows()"
   ]
  },
  {
   "cell_type": "code",
   "execution_count": 21,
   "id": "5c0399d6-b7f1-4545-9587-d182e45eca87",
   "metadata": {
    "tags": []
   },
   "outputs": [],
   "source": [
    "import cv2\n",
    "\n",
    "path = r\"C:\\Users\\rupes\\OneDrive\\Pictures\\img5.jpg\"\n",
    "\n",
    "image = cv2.imread(path)\n",
    "\n",
    "window_name = 'Output'\n",
    "\n",
    "cv2.imshow(window_name, image)\n",
    "\n",
    "cv2.waitKey(0)\n",
    "\n",
    "cv2.destroyAllWindows()"
   ]
  },
  {
   "cell_type": "code",
   "execution_count": 14,
   "id": "eeaab3d9-6ba8-4863-926d-70388b628346",
   "metadata": {
    "tags": []
   },
   "outputs": [
    {
     "name": "stdout",
     "output_type": "stream",
     "text": [
      "Before saving image: \n",
      "[]\n",
      "After saving image: \n",
      "['savedImage.jpg']\n",
      "Successfully saved\n"
     ]
    }
   ],
   "source": [
    "import cv2\n",
    "import os\n",
    "\n",
    "image_path = r\"C:\\Users\\rupes\\OneDrive\\Pictures\\img2.jpg\"\n",
    "directory = r\"D:\\Images\"\n",
    "\n",
    "img = cv2.imread(image_path)\n",
    "os.chdir(directory)\n",
    "\n",
    "print(\"Before saving image: \")\n",
    "print(os.listdir(directory))\n",
    "\n",
    "filname = \"savedImage.jpg\"\n",
    "cv2.imwrite(filename, img)\n",
    "\n",
    "print(\"After saving image: \")\n",
    "print(os.listdir(directory))\n",
    "print(\"Successfully saved\")"
   ]
  },
  {
   "cell_type": "code",
   "execution_count": null,
   "id": "5e62cce5-2dd6-4ac5-b839-04f319b3a1c3",
   "metadata": {},
   "outputs": [],
   "source": []
  }
 ],
 "metadata": {
  "kernelspec": {
   "display_name": "Python 3 (ipykernel)",
   "language": "python",
   "name": "python3"
  },
  "language_info": {
   "codemirror_mode": {
    "name": "ipython",
    "version": 3
   },
   "file_extension": ".py",
   "mimetype": "text/x-python",
   "name": "python",
   "nbconvert_exporter": "python",
   "pygments_lexer": "ipython3",
   "version": "3.11.4"
  }
 },
 "nbformat": 4,
 "nbformat_minor": 5
}
