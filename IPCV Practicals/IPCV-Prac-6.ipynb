{
 "cells": [
  {
   "cell_type": "code",
   "execution_count": 1,
   "id": "9efc6a96-4a47-47f4-9a37-6d1415c7d4ab",
   "metadata": {},
   "outputs": [],
   "source": [
    "# Rupesh Bharambe, AI2008"
   ]
  },
  {
   "cell_type": "code",
   "execution_count": 4,
   "id": "5ad2b3c2-d04e-4ee2-85ea-d3403044e55a",
   "metadata": {
    "tags": []
   },
   "outputs": [
    {
     "data": {
      "text/plain": [
       "-1"
      ]
     },
     "execution_count": 4,
     "metadata": {},
     "output_type": "execute_result"
    }
   ],
   "source": [
    "import cv2\n",
    "\n",
    "path = r\"C:\\Users\\rupes\\OneDrive\\Pictures\\img4.jpg\"\n",
    "\n",
    "image =cv2.imread(path)\n",
    "\n",
    "window_name = 'Image'\n",
    "\n",
    "start_point = (0, 0)\n",
    "\n",
    "end_point = (1000, 1000)\n",
    "\n",
    "color = (0, 0, 255)\n",
    "\n",
    "thickness = 9\n",
    "\n",
    "image = cv2.line(image, start_point, end_point, color, thickness)\n",
    "\n",
    "cv2.imshow(window_name, image)\n",
    "\n",
    "cv2.waitKey(0)"
   ]
  },
  {
   "cell_type": "code",
   "execution_count": 1,
   "id": "d3f0c6f3-a423-4801-8a74-96b2f69ed63d",
   "metadata": {
    "tags": []
   },
   "outputs": [
    {
     "data": {
      "text/plain": [
       "-1"
      ]
     },
     "execution_count": 1,
     "metadata": {},
     "output_type": "execute_result"
    }
   ],
   "source": [
    "import cv2\n",
    "\n",
    "path = r\"C:\\Users\\rupes\\OneDrive\\Pictures\\img4.jpg\"\n",
    "\n",
    "image = cv2.imread(path)\n",
    "\n",
    "window_name = 'Image'\n",
    "\n",
    "center_coordinates = (110, 100)\n",
    "\n",
    "radius = 40\n",
    "\n",
    "color = (0, 200, 255)\n",
    "\n",
    "thickness = 2\n",
    "\n",
    "image = cv2.circle(image, center_coordinates, radius, color, thickness)\n",
    "\n",
    "cv2.imshow(window_name, image)\n",
    "\n",
    "cv2.waitKey(0)"
   ]
  },
  {
   "cell_type": "code",
   "execution_count": 2,
   "id": "08026586-df75-40f1-ab37-b83798ef7dcd",
   "metadata": {
    "tags": []
   },
   "outputs": [
    {
     "data": {
      "text/plain": [
       "-1"
      ]
     },
     "execution_count": 2,
     "metadata": {},
     "output_type": "execute_result"
    }
   ],
   "source": [
    "import cv2\n",
    "\n",
    "path = r\"C:\\Users\\rupes\\OneDrive\\Pictures\\img4.jpg\"\n",
    "\n",
    "image = cv2.imread(path)\n",
    "\n",
    "window_name = 'Image'\n",
    "\n",
    "start_point = (10, 100)\n",
    "\n",
    "end_point = (1000, 500)\n",
    "\n",
    "color = (255, 0, 0)\n",
    "\n",
    "thickness = 2\n",
    "\n",
    "image = cv2.rectangle(image, start_point, end_point, color, thickness)\n",
    "\n",
    "cv2.imshow(window_name, image)\n",
    "\n",
    "cv2.waitKey(0)"
   ]
  },
  {
   "cell_type": "code",
   "execution_count": 4,
   "id": "4b54bce6-fc44-45e3-ab02-cf0254e545e9",
   "metadata": {
    "tags": []
   },
   "outputs": [
    {
     "data": {
      "text/plain": [
       "-1"
      ]
     },
     "execution_count": 4,
     "metadata": {},
     "output_type": "execute_result"
    }
   ],
   "source": [
    "import cv2\n",
    "\n",
    "path = r\"C:\\Users\\rupes\\OneDrive\\Pictures\\img4.jpg\"\n",
    "\n",
    "image = cv2.imread(path)\n",
    "\n",
    "window_name = 'Image'\n",
    "\n",
    "font = cv2.FONT_HERSHEY_SIMPLEX\n",
    "\n",
    "org = (100, 100)\n",
    "\n",
    "fontscale = 2\n",
    "\n",
    "color = (0, 100, 255)\n",
    "\n",
    "thickness = 2\n",
    "\n",
    "image = cv2.putText(image, 'No Betting', org, font, fontscale, color,\n",
    "                    thickness, cv2.LINE_AA)\n",
    "\n",
    "cv2.imshow(window_name, image)\n",
    "\n",
    "cv2.waitKey(0)"
   ]
  },
  {
   "cell_type": "code",
   "execution_count": null,
   "id": "3a7eb199-309c-485c-a733-cb626f098421",
   "metadata": {},
   "outputs": [],
   "source": []
  }
 ],
 "metadata": {
  "kernelspec": {
   "display_name": "Python 3 (ipykernel)",
   "language": "python",
   "name": "python3"
  },
  "language_info": {
   "codemirror_mode": {
    "name": "ipython",
    "version": 3
   },
   "file_extension": ".py",
   "mimetype": "text/x-python",
   "name": "python",
   "nbconvert_exporter": "python",
   "pygments_lexer": "ipython3",
   "version": "3.11.4"
  }
 },
 "nbformat": 4,
 "nbformat_minor": 5
}
