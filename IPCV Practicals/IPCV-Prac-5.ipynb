{
 "cells": [
  {
   "cell_type": "code",
   "execution_count": null,
   "id": "cff27f99-fcb5-4d66-9d7c-1af28ecaebba",
   "metadata": {},
   "outputs": [],
   "source": [
    "# Rupesh Bharambe, AI2008"
   ]
  },
  {
   "cell_type": "code",
   "execution_count": 17,
   "id": "7aa6c4ef-3106-432a-a8be-c687ad447d39",
   "metadata": {},
   "outputs": [],
   "source": [
    "import cv2\n",
    "import numpy as np\n",
    "\n",
    "img1 = cv2.imread(r\"C:\\Users\\rupes\\OneDrive\\Pictures\\ss1.jpg\")\n",
    "img2 = cv2.imread(r\"C:\\Users\\rupes\\OneDrive\\Pictures\\ss2.jpg\")\n",
    "\n",
    "dest_and = cv2.bitwise_and(img2, img1, mask = None)\n",
    "\n",
    "cv2.imshow(\"Bitwise And\", dest_and)\n",
    "\n",
    "if cv2.waitKey(0) & 0xff == 27:\n",
    "    cv2.destroyAllWindows()"
   ]
  },
  {
   "cell_type": "code",
   "execution_count": 18,
   "id": "361907db-232e-44f7-8d0e-6129438983d6",
   "metadata": {},
   "outputs": [],
   "source": [
    "import cv2\n",
    "import numpy as np\n",
    "\n",
    "img1 = cv2.imread(r\"C:\\Users\\rupes\\OneDrive\\Pictures\\ss1.jpg\")\n",
    "img2 = cv2.imread(r\"C:\\Users\\rupes\\OneDrive\\Pictures\\ss2.jpg\")\n",
    "\n",
    "dest_or = cv2.bitwise_or(img2, img1, mask = None)\n",
    "\n",
    "cv2.imshow(\"Bitwise Or\", dest_or)\n",
    "\n",
    "if cv2.waitKey(0) & 0xff == 27:\n",
    "    cv2.destroyAllWindows()"
   ]
  },
  {
   "cell_type": "code",
   "execution_count": 19,
   "id": "e9230779-ec44-4df9-af39-84b2ca897fba",
   "metadata": {
    "tags": []
   },
   "outputs": [],
   "source": [
    "import cv2\n",
    "import numpy as np\n",
    "\n",
    "img1 = cv2.imread(r\"C:\\Users\\rupes\\OneDrive\\Pictures\\ss1.jpg\")\n",
    "img2 = cv2.imread(r\"C:\\Users\\rupes\\OneDrive\\Pictures\\ss2.jpg\")\n",
    "\n",
    "dest_xor = cv2.bitwise_xor(img2, img1, mask = None)\n",
    "\n",
    "cv2.imshow(\"Bitwise XOR\", dest_xor)\n",
    "\n",
    "if cv2.waitKey(0) & 0xff == 27:\n",
    "    cv2.destroyAllWindows()"
   ]
  },
  {
   "cell_type": "code",
   "execution_count": 20,
   "id": "335967f9-fa6d-4cc1-af48-34547d1dca07",
   "metadata": {
    "tags": []
   },
   "outputs": [],
   "source": [
    "import cv2\n",
    "import numpy as np\n",
    "\n",
    "img1 = cv2.imread(r\"C:\\Users\\rupes\\OneDrive\\Pictures\\ss1.jpg\")\n",
    "img2 = cv2.imread(r\"C:\\Users\\rupes\\OneDrive\\Pictures\\ss2.jpg\")\n",
    "\n",
    "dest_not1 = cv2.bitwise_not(img1, mask = None)\n",
    "dest_not2 = cv2.bitwise_not(img2, mask = None)\n",
    "\n",
    "cv2.imshow(\"Bitwise NOT\", dest_not1)\n",
    "cv2.imshow(\"Bitwise NOT\", dest_not2)\n",
    "\n",
    "if cv2.waitKey(0) & 0xff == 27:\n",
    "    cv2.destroyAllWindows()"
   ]
  },
  {
   "cell_type": "code",
   "execution_count": null,
   "id": "66f41ea3-6972-4a46-a8a9-2a329aa4e600",
   "metadata": {},
   "outputs": [],
   "source": []
  }
 ],
 "metadata": {
  "kernelspec": {
   "display_name": "Python 3 (ipykernel)",
   "language": "python",
   "name": "python3"
  },
  "language_info": {
   "codemirror_mode": {
    "name": "ipython",
    "version": 3
   },
   "file_extension": ".py",
   "mimetype": "text/x-python",
   "name": "python",
   "nbconvert_exporter": "python",
   "pygments_lexer": "ipython3",
   "version": "3.11.4"
  }
 },
 "nbformat": 4,
 "nbformat_minor": 5
}
